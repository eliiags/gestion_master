{
 "cells": [
  {
   "cell_type": "code",
   "execution_count": 13,
   "metadata": {},
   "outputs": [
    {
     "name": "stdout",
     "output_type": "stream",
     "text": [
      "Introduce 7 palabras: \n",
      "e\n",
      "e\n",
      "e\n",
      "e\n",
      "e\n",
      "e\n",
      "e\n",
      "['e', 'e', 'e', 'e', 'e', 'e', 'e']\n",
      "\n",
      "Introduce un número entre 1 y 7: 10\n",
      "Tiene que ser entre 1 y 7: 9\n",
      "Tiene que ser entre 1 y 7: 4\n",
      "Ahora introduce una palabra: rr\n",
      "['e', 'e', 'e', 'e', 'rr', 'e', 'e']\n"
     ]
    }
   ],
   "source": [
    "# Listas y Diccionarios\n",
    "# 1. Programa que pide un numero de palabras a insertar (mínimo 7), \n",
    "#    se introduce esas palabras creando con ellas una lista que después se muestra.\n",
    "import random\n",
    "listaPalabra = []\n",
    "aleat = random.randrange(7, 10)\n",
    "print(\"Introduce \" + str(aleat) + \" palabras: \")\n",
    "i=0\n",
    "while(i < aleat):\n",
    "    palabra = input()\n",
    "    listaPalabra.append(palabra)\n",
    "    i+=1\n",
    "print(listaPalabra)\n",
    "\n",
    "# 2. Se pide un numero entre 1 y 7 y una palabra, dicha palabra sustituye a la que \n",
    "#    ocupa dicha posición en la lista.\n",
    "print(\"\")\n",
    "print(\"Introduce un número entre 1 y \" + str(aleat) + \": \", end=\"\")\n",
    "num = input()\n",
    "num = int(num)\n",
    "if (not(num >= 1 and num<=7)):\n",
    "    while (True):\n",
    "        print(\"Tiene que ser entre 1 y \" + str(aleat) + \": \", end=\"\")\n",
    "        num = input()\n",
    "        num = int(num)\n",
    "        if (num >= 1 and num<=7):\n",
    "            break\n",
    "\n",
    "print(\"Ahora introduce una palabra: \", end=\"\")\n",
    "palabra = input()\n",
    "listaPalabra[num-1] = palabra\n",
    "print(listaPalabra)\n",
    "\n",
    "# 3. Se pide la posición de un elemento en la lista y una vez introducida se elimina \n",
    "#    dicha palabra.\n",
    "print(\"\")\n",
    "print(\"Introduce un número entre 1 y \" + str(aleat) + \": \", end=\"\")\n",
    "num = input()\n",
    "num = int(num)\n",
    "if (not(num >= 1 and num<=aleat)):\n",
    "    while (True):\n",
    "        print(\"Tiene que ser entre 1 y \" + str(aleat) + \": \", end=\"\")\n",
    "        num = input()\n",
    "        num = int(num)\n",
    "        if (num >= 1 and num<=aleat):\n",
    "            break\n",
    "del listaPalabra[num]\n",
    "print(listaPalabra)"
   ]
  },
  {
   "cell_type": "code",
   "execution_count": 28,
   "metadata": {},
   "outputs": [
    {
     "name": "stdout",
     "output_type": "stream",
     "text": [
      "Las palabras que se encuentran en este diccionario son: \n",
      " 1.house, 2.windows, 3.sofa,\n",
      " 4.plate, 5.glass, 6.food,\n",
      " 7.table, 8.door, 9.bed, 10.chair\n",
      "Puedes escribir tres palabras y conoces su traducción\n",
      "\n",
      "Introduce una palabra: house\n",
      "La traducción de house es: casa\n",
      "\n",
      "Introduce una palabra: sofa\n",
      "La traducción de sofa es: sofá\n",
      "\n",
      "Introduce una palabra: door\n",
      "La traducción de door es: puerta\n"
     ]
    }
   ],
   "source": [
    "# 4. Crea un diccionario de 10 palabras ingles-español y realiza 3 consultas a este \n",
    "#    diccionario\n",
    "diccionarioPalabras = {\"house\":\"casa\", \n",
    "                       \"windows\":\"ventana\",\n",
    "                       \"sofa\":\"sofá\",\n",
    "                       \"plate\":\"plato\",\n",
    "                       \"glass\":\"cristal\",\n",
    "                       \"food\":\"comida\",\n",
    "                       \"table\":\"mesa\",\n",
    "                       \"door\":\"puerta\",\n",
    "                       \"bed\":\"cama\",\n",
    "                       \"chair\":\"silla\"}\n",
    "print(\"Las palabras que se encuentran en este diccionario son: \")\n",
    "print(\" 1.house, 2.windows, 3.sofa,\") \n",
    "print(\" 4.plate, 5.glass, 6.food,\")\n",
    "print(\" 7.table, 8.door, 9.bed, 10.chair\")\n",
    "print(\"Puedes escribir tres palabras y conoces su traducción\")\n",
    "i=0\n",
    "while(i < 3):\n",
    "    print(\"\")\n",
    "    print(\"Introduce una palabra: \", end=\"\")\n",
    "    p = input()\n",
    "    print(\"La traducción de \" + str(p) + \" es: \", end=\"\")\n",
    "    print(diccionarioPalabras[p])\n",
    "    i+=1\n",
    "\n",
    "# 5. Añade 4 palabras mas al diccionario \n",
    "diccionarioPalabras.update({\"mirror\":\"espejo\"})\n",
    "diccionarioPalabras.update({\"phone\":\"teléfono\"})\n",
    "diccionarioPalabras.update({\"reloj\":\"clock\"})\n",
    "    \n",
    "print(diccionarioPalabras)"
   ]
  },
  {
   "cell_type": "code",
   "execution_count": 30,
   "metadata": {},
   "outputs": [
    {
     "name": "stdout",
     "output_type": "stream",
     "text": [
      "diez\n",
      "nueve\n",
      "ocho\n",
      "siete\n",
      "seis\n",
      "cinco\n",
      "cuatro\n",
      "tres\n",
      "dos\n",
      "uno\n"
     ]
    }
   ],
   "source": [
    "# + For, funciones.\n",
    "# 1. Introduce una lista de 10 palabras y muéstralas de la ultima a la primera.\n",
    "listaDiezPalabras = [\"uno\", \"dos\", \"tres\", \"cuatro\", \"cinco\", \"seis\", \"siete\", \"ocho\", \"nueve\", \"diez\"]\n",
    "i=10\n",
    "while (i > 0):\n",
    "    print(listaDiezPalabras[i-1])\n",
    "    i-=1"
   ]
  },
  {
   "cell_type": "code",
   "execution_count": 37,
   "metadata": {},
   "outputs": [
    {
     "name": "stdout",
     "output_type": "stream",
     "text": [
      "Introduzca dos números\n",
      "3\n",
      "4\n",
      "Introduzca la función que desea realizar: \n",
      " 1. Suma\n",
      " 2. Resta\n",
      " 3. Multiplicación\n",
      " 4. División\n",
      "1\n",
      "3 + 4 = 7\n"
     ]
    }
   ],
   "source": [
    "# 2. Mediante funciones realiza un programa que simule una calculadora\n",
    "#    1. Sumar\n",
    "#    2. Restar\n",
    "#    3. Multiplicar\n",
    "#    4. Dividir\n",
    "def suma(n1, n2):\n",
    "    return (n1+n2)\n",
    "def resta(n1, n2):\n",
    "    return (n1-n2)\n",
    "def multi(n1, n2):\n",
    "    return (n1*n2)\n",
    "def div(n1, n2):\n",
    "    return (n1/n2)\n",
    "\n",
    "print(\"Introduzca dos números\")\n",
    "n1 = input()\n",
    "n1 = int(n1)\n",
    "n2 = input()\n",
    "n2 = int(n2)\n",
    "print(\"Introduzca la función que desea realizar: \")\n",
    "print(\" 1. Suma\")\n",
    "print(\" 2. Resta\")\n",
    "print(\" 3. Multiplicación\")\n",
    "print(\" 4. División\")\n",
    "fun = input()\n",
    "fun = int(fun)\n",
    "if (fun == 1):\n",
    "    print(str(n1) + \" + \" + str(n2) + \" = \" + str(suma(n1=n1, n2=n2)))\n",
    "elif(fun == 2):\n",
    "    print(str(n1) + \" + \" + str(n2) + \" = \" + str(resta(n1, n2)))\n",
    "elif(fun == 3):\n",
    "    print(str(n1) + \" + \" + str(n2) + \" = \" + str(multi(n1, n2)))\n",
    "elif(fun == 4):\n",
    "    print(str(n1) + \" + \" + str(n2) + \" = \" + str(div(n1, n2)))\n",
    "else:\n",
    "    print(\"La funcion introducida no es correcta\")"
   ]
  },
  {
   "cell_type": "code",
   "execution_count": 41,
   "metadata": {},
   "outputs": [
    {
     "name": "stdout",
     "output_type": "stream",
     "text": [
      "Introduce tu nota: 10\n",
      "Si has sacado un 10 tienes un sobresaliente\n"
     ]
    }
   ],
   "source": [
    "# 3. Realiza un programa sin usar IF que dada una nota numérica muestre su nota en texto1. \n",
    "#    0-4 suspenso, \n",
    "#    5 suficiente, \n",
    "#    5-7 bien, \n",
    "#    8-9 notable, \n",
    "#    10 sobresaliente\n",
    "def notas(n):\n",
    "    switcher={\n",
    "        0:\"suspenso\",\n",
    "        1:\"suspenso\",\n",
    "        2:\"suspenso\",\n",
    "        3:\"suspenso\",\n",
    "        4:\"suspenso\",\n",
    "        5:\"suficiente\",\n",
    "        6:\"bien\",\n",
    "        7:\"bien\",\n",
    "        8:\"notable\",\n",
    "        9:\"notable\",\n",
    "        10:\"sobresaliente\"\n",
    "    }\n",
    "    return switcher.get(n, \"notas\")\n",
    "\n",
    "print(\"Introduce tu nota: \", end=\"\")\n",
    "n = input()\n",
    "n = int(n)\n",
    "print(\"Si has sacado un \" + str(n) + \" tienes un \" + notas(n))"
   ]
  },
  {
   "cell_type": "code",
   "execution_count": 46,
   "metadata": {},
   "outputs": [
    {
     "name": "stdout",
     "output_type": "stream",
     "text": [
      "Introduce 10 números: \n",
      "1\n",
      "2\n",
      "3\n",
      "4\n",
      "5\n",
      "6\n",
      "7\n",
      "8\n",
      "9\n",
      "0\n",
      "1 2 3 4 5 6 7 8 9 0 ['0', '1', '2', '3', '4', '5', '6', '7', '8', '9']\n"
     ]
    }
   ],
   "source": [
    "# 4. Introduce 10 números y guardaros en una lista, muéstralos mediante for.\n",
    "listaNumeros = []\n",
    "print(\"Introduce 10 números: \")\n",
    "while(True):\n",
    "    num = input()\n",
    "    listaNumeros.append(num)\n",
    "    if (len(listaNumeros) == 10):\n",
    "        break\n",
    "        \n",
    "for n in listaNumeros:\n",
    "    print(n + \" \", end=\"\")\n",
    "    \n",
    "# 5. Ordena la lista anterior y muéstrala\n",
    "listaOrdenada = sorted(listaNumeros)\n",
    "print(\"\")\n",
    "print(listaOrdenada)"
   ]
  },
  {
   "cell_type": "code",
   "execution_count": 51,
   "metadata": {},
   "outputs": [
    {
     "name": "stdout",
     "output_type": "stream",
     "text": [
      "Primer jugador: Introduce una palabra: casa\n",
      "\n",
      "\n",
      "\n",
      "Segundo jugador: Tienes 6 intentos para adivinar la palabra\n",
      "_ _ _ _ \n"
     ]
    }
   ],
   "source": [
    "# 6. Avanzado: Juego del ahorcado con funciones.\n",
    "print(\"Primer jugador: Introduce una palabra: \", end=\"\")\n",
    "palabra = input()\n",
    "adivina = []\n",
    "print(\"\")\n",
    "print(\"\")\n",
    "print(\"\")\n",
    "print(\"Segundo jugador: Tienes 6 intentos para adivinar la palabra\")\n",
    "i=0\n",
    "while(i < len(palabra)):\n",
    "    adivina.append(\"_\")\n",
    "    i+=1\n",
    "\n",
    "for j in adivina:\n",
    "    print(j + \" \", end=\"\")\n",
    "    \n",
    "print(\"\")\n",
    "\n",
    "pos = []\n",
    "intentos = 0\n",
    "while(intentos < 6):\n",
    "    print(\"Introduce una letra: \", end=\"\")\n",
    "    letra = input()\n",
    "    pos = []\n",
    "    j = 0\n",
    "    for l in palabra:\n",
    "        if (letra == l):\n",
    "            pos.append()\n"
   ]
  },
  {
   "cell_type": "code",
   "execution_count": null,
   "metadata": {},
   "outputs": [],
   "source": []
  }
 ],
 "metadata": {
  "kernelspec": {
   "display_name": "Python 3",
   "language": "python",
   "name": "python3"
  },
  "language_info": {
   "codemirror_mode": {
    "name": "ipython",
    "version": 3
   },
   "file_extension": ".py",
   "mimetype": "text/x-python",
   "name": "python",
   "nbconvert_exporter": "python",
   "pygments_lexer": "ipython3",
   "version": "3.6.5"
  }
 },
 "nbformat": 4,
 "nbformat_minor": 2
}
